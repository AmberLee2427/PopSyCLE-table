 {
 "cells": [
  {
   "cell_type": "markdown",
   "metadata": {},
   "source": [
    "# Additional Analysis: Binary Semi-Major Axis and Orientation\n",
    "\n",
    "This notebook adds the semi-major axis (`log_a` and `a`) and orientation angle (`alpha`) of the source binary to your final table, and performs a sanity check to ensure the projected separation is not less than the semi-major axis. It also provides histograms for these quantities."
   ]
  },
  {
   "cell_type": "code",
   "metadata": {},
   "source": [
    "import numpy as np\n",
    "import pandas as pd\n",
    "import matplotlib.pyplot as plt\n",
    "\n",
    "# Load your previously saved table (update path if needed)\n",
    "table = pd.read_csv('data/popsycle_table_with_calcs.csv')\n",
    "\n",
    "# If you have the original filtered_df_with_calcs, you can use that instead.\n",
    "# Otherwise, merge in the columns from your original DataFrame as needed.\n",
    "# For this example, we'll assume you have the relevant columns in 'df'\n",
    "from astropy.io import fits\n",
    "fits_file = 'data/all_fields_Mrun_EWS_w_comp_params.fits'\n",
    "with fits.open(fits_file) as hdul:\n",
    "    data = hdul[1].data\n",
    "    data_array = np.array(data).byteswap().view(data.dtype.newbyteorder('='))\n",
    "    df = pd.DataFrame(data_array)\n",
    "\n",
    "# Select only rows that are in the final table (e.g., by matching obj_id_L, obj_id_S, etc.)\n",
    "# Here, we'll assume the order matches, but you may want to merge on unique keys.\n",
    "df_filtered = df.loc[table.index]  # crude, but works if order is preserved\n",
    "\n",
    "# Add comp_S_log_a and comp_S_alpha to the table\n",
    "table['binary_log_a_au'] = df_filtered['comp_S_log_a']\n",
    "table['binary_a_au'] = 10 ** df_filtered['comp_S_log_a']\n",
    "table['binary_alpha_deg'] = df_filtered['comp_S_alpha']\n",
    "\n",
    "# --- Sanity check: a (semi-major axis) should not be greater than sep (projected separation) ---\n",
    "mask = table['binary_a_au'] > table['binary_sep_au']\n",
    "print(f'Number of cases where a > sep: {mask.sum()} / {len(table)}')\n",
    "\n",
    "# --- Histograms ---\n",
    "plt.figure(figsize=(6,4))\n",
    "plt.hist(table['binary_log_a_au'].dropna(), bins=50, alpha=0.7)\n",
    "plt.xlabel('log10(a) [AU]')\n",
    "plt.ylabel('Count')\n",
    "plt.title('Histogram of binary_log_a_au')\n",
    "plt.show()\n",
    "\n",
    "plt.figure(figsize=(6,4))\n",
    "plt.hist(table['binary_sep_au'].dropna(), bins=50, alpha=0.7)\n",
    "plt.xlabel('Projected Separation (AU)')\n",
    "plt.ylabel('Count')\n",
    "plt.title('Histogram of binary_sep_au')\n",
    "plt.show()\n",
    "\n",
    "# Save the updated table\n",
    "table.to_csv('data/popsycle_table_with_calcs_and_a.csv', index=False)"
   ]
  },
  {
   "cell_type": "markdown",
   "metadata": {},
   "source": [
    "## New Columns Added\n",
    "\n",
    "| Your Column Name      | Original Column(s)   | Units                        |\n",
    "| :---                 | :---                 | :---                         |\n",
    "| `binary_log_a_au`    | `comp_S_log_a`       | log10(semi-major axis/AU)    |\n",
    "| `binary_a_au`        | `comp_S_log_a`       | Semi-major axis (AU)         |\n",
    "| `binary_alpha_deg`   | `comp_S_alpha`       | Orientation angle (deg)      |\n",
    "\n",
    "- `binary_log_a_au`: log10 of the semi-major axis of the source binary (AU)\n",
    "- `binary_a_au`: semi-major axis of the source binary (AU)\n",
    "- `binary_alpha_deg`: orientation angle of the source binary (deg)\n",
    "\n",
    "**Sanity check:** The semi-major axis (`a`) should not be greater than the projected separation (`sep`). The code above prints the number of cases where this is violated.\n",
    "\n",
    "**Histograms:** The notebook also plots histograms for `binary_log_a_au` and `binary_sep_au` to help you visually inspect the distributions."
   ]
  }
 ],
 "metadata": {
  "kernelspec": {
   "display_name": "popsycle",
   "language": "python",
   "name": "python3"
  },
  "language_info": {
   "name": "python",
   "version": "3.11.13"
  }
 },
 "nbformat": 4,
 "nbformat_minor": 2
}
