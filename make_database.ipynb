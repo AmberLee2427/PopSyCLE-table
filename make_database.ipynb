{
 "cells": [
  {
   "cell_type": "markdown",
   "metadata": {},
   "source": [
    "# Making a Database for Catherine out of the PopSyCLE Data with Natasha's OGLE cuts\n",
    "\n",
    "\n",
    "> Here's the table with mock-OGLE EWS cuts implemented. The fields are merged and I also added in the companion parameters into this table for convenience. This is the `all_fields_Mrun_EWS_w_comp_params.fits` file.\n",
    ">\n",
    "> The columns of the event table are described here [https://popsycle.readthedocs.io/en/latest/source/popsycle_docs.html](https://popsycle.readthedocs.io/en/latest/source/popsycle_docs.html) (see the `event_table` description in `calc_events`, `refine_events`, and `refine_binary_events`). There's now also all the columns from the companion tables added. All the values for the binary lens companions are `comp_L_<column>` and for the source `comp_S_<column>` in the attached event table. If there's no companion the values are all set to `nan`.\n",
    ">\n",
    "> Note that we actually do include triples in a rudimentary way, but the companion parameters that are chosen for each lens and source here are the companion that corresponded to the lightcurve with the highest bump magnitude (`delta_m`). If you want the full detail of the companions and the lightcurves simulated, I attached the uncut companion and lightcurve tables. (see section 2.2.5 and Appendix B and C for details [https://ui.adsabs.harvard.edu/abs/2025ApJ...980..103A/abstract](https://ui.adsabs.harvard.edu/abs/2025ApJ...980..103A/abstract)).\n",
    "> \n",
    "> Note also that since there are multiple fields combined here that the `obj_id_L`, `obj_id_S`, and `companion_ids` are no longer unique. You need to cross reference with the `field_id` column if you want to combine the tables.\n",
    "> \n",
    "> I know this can be a bit complicated/confusing, so let me know if you have more questions!\n",
    ">\n",
    "> Best,\n",
    ">\n",
    "> Natasha\n"
   ]
  },
  {
   "cell_type": "code",
   "execution_count": 1,
   "metadata": {},
   "outputs": [],
   "source": [
    "import pandas as pd\n",
    "from astropy.io import fits\n",
    "import numpy as np"
   ]
  },
  {
   "cell_type": "markdown",
   "metadata": {},
   "source": [
    "## Load the `all_fields_Mrun_EWS_w_comp_params.fits` file"
   ]
  },
  {
   "cell_type": "code",
   "execution_count": 12,
   "metadata": {},
   "outputs": [
    {
     "name": "stdout",
     "output_type": "stream",
     "text": [
      "Filename: data/all_fields_Mrun_EWS_w_comp_params.fits\n",
      "No.    Name      Ver    Type      Cards   Dimensions   Format\n",
      "  0  PRIMARY       1 PrimaryHDU       4   ()      \n",
      "  1                1 BinTableHDU    342   5898R x 164C   [K, K, D, I, D, D, D, D, D, D, D, D, D, D, D, D, D, D, D, D, D, D, D, I, D, D, D, D, D, D, D, D, D, D, D, D, D, I, D, D, D, D, D, D, D, D, D, D, D, D, D, D, D, D, D, D, D, I, D, D, D, D, D, D, D, D, D, D, D, D, D, D, D, D, D, D, D, D, D, D, D, D, D, D, D, D, D, D, D, D, D, D, D, D, D, 28A, 6A, D, D, D, D, D, D, D, D, D, D, D, D, D, D, D, D, D, D, D, D, D, D, D, D, D, D, D, D, D, D, D, D, D, D, D, D, D, D, D, D, D, D, D, D, D, D, D, D, D, D, D, D, D, D, D, D, D, D, D, D, D, D, D, D, D, D, D]   \n"
     ]
    },
    {
     "data": {
      "text/html": [
       "<div>\n",
       "<style scoped>\n",
       "    .dataframe tbody tr th:only-of-type {\n",
       "        vertical-align: middle;\n",
       "    }\n",
       "\n",
       "    .dataframe tbody tr th {\n",
       "        vertical-align: top;\n",
       "    }\n",
       "\n",
       "    .dataframe thead th {\n",
       "        text-align: right;\n",
       "    }\n",
       "</style>\n",
       "<table border=\"1\" class=\"dataframe\">\n",
       "  <thead>\n",
       "    <tr style=\"text-align: right;\">\n",
       "      <th></th>\n",
       "      <th>obj_id_L</th>\n",
       "      <th>obj_id_S</th>\n",
       "      <th>age_L</th>\n",
       "      <th>popid_L</th>\n",
       "      <th>zams_mass_L</th>\n",
       "      <th>mass_L</th>\n",
       "      <th>systemMass_L</th>\n",
       "      <th>px_L</th>\n",
       "      <th>py_L</th>\n",
       "      <th>pz_L</th>\n",
       "      <th>...</th>\n",
       "      <th>comp_S_omega</th>\n",
       "      <th>comp_S_q</th>\n",
       "      <th>comp_S_sep</th>\n",
       "      <th>comp_S_P</th>\n",
       "      <th>comp_S_obj_id_L</th>\n",
       "      <th>comp_S_obj_id_S</th>\n",
       "      <th>comp_S_alpha</th>\n",
       "      <th>comp_S_phi_pi_E</th>\n",
       "      <th>comp_S_phi</th>\n",
       "      <th>comp_S_companion_idx</th>\n",
       "    </tr>\n",
       "  </thead>\n",
       "  <tbody>\n",
       "    <tr>\n",
       "      <th>0</th>\n",
       "      <td>493856</td>\n",
       "      <td>11630673</td>\n",
       "      <td>9.647691</td>\n",
       "      <td>4</td>\n",
       "      <td>0.108094</td>\n",
       "      <td>0.108094</td>\n",
       "      <td>0.108094</td>\n",
       "      <td>1.046219</td>\n",
       "      <td>0.143427</td>\n",
       "      <td>0.084485</td>\n",
       "      <td>...</td>\n",
       "      <td>21.468162</td>\n",
       "      <td>0.665088</td>\n",
       "      <td>0.002759</td>\n",
       "      <td>0.004897</td>\n",
       "      <td>493856.0</td>\n",
       "      <td>11630673.0</td>\n",
       "      <td>145.180702</td>\n",
       "      <td>351.565936</td>\n",
       "      <td>153.614765</td>\n",
       "      <td>54.0</td>\n",
       "    </tr>\n",
       "    <tr>\n",
       "      <th>1</th>\n",
       "      <td>1871302</td>\n",
       "      <td>12431899</td>\n",
       "      <td>9.905573</td>\n",
       "      <td>6</td>\n",
       "      <td>0.310635</td>\n",
       "      <td>0.310635</td>\n",
       "      <td>0.310635</td>\n",
       "      <td>4.250701</td>\n",
       "      <td>0.585845</td>\n",
       "      <td>0.370213</td>\n",
       "      <td>...</td>\n",
       "      <td>225.949123</td>\n",
       "      <td>1.479937</td>\n",
       "      <td>1.569128</td>\n",
       "      <td>74.105185</td>\n",
       "      <td>1871302.0</td>\n",
       "      <td>12431899.0</td>\n",
       "      <td>45.090036</td>\n",
       "      <td>65.191924</td>\n",
       "      <td>339.898111</td>\n",
       "      <td>136.0</td>\n",
       "    </tr>\n",
       "    <tr>\n",
       "      <th>2</th>\n",
       "      <td>2250630</td>\n",
       "      <td>2903857</td>\n",
       "      <td>9.981004</td>\n",
       "      <td>6</td>\n",
       "      <td>0.635183</td>\n",
       "      <td>0.634982</td>\n",
       "      <td>0.634982</td>\n",
       "      <td>1.753730</td>\n",
       "      <td>0.247231</td>\n",
       "      <td>0.148651</td>\n",
       "      <td>...</td>\n",
       "      <td>NaN</td>\n",
       "      <td>NaN</td>\n",
       "      <td>NaN</td>\n",
       "      <td>NaN</td>\n",
       "      <td>NaN</td>\n",
       "      <td>NaN</td>\n",
       "      <td>NaN</td>\n",
       "      <td>NaN</td>\n",
       "      <td>NaN</td>\n",
       "      <td>NaN</td>\n",
       "    </tr>\n",
       "    <tr>\n",
       "      <th>3</th>\n",
       "      <td>2350514</td>\n",
       "      <td>2595276</td>\n",
       "      <td>9.997058</td>\n",
       "      <td>6</td>\n",
       "      <td>0.092799</td>\n",
       "      <td>0.092799</td>\n",
       "      <td>0.092799</td>\n",
       "      <td>0.496960</td>\n",
       "      <td>0.067016</td>\n",
       "      <td>0.040720</td>\n",
       "      <td>...</td>\n",
       "      <td>NaN</td>\n",
       "      <td>NaN</td>\n",
       "      <td>NaN</td>\n",
       "      <td>NaN</td>\n",
       "      <td>NaN</td>\n",
       "      <td>NaN</td>\n",
       "      <td>NaN</td>\n",
       "      <td>NaN</td>\n",
       "      <td>NaN</td>\n",
       "      <td>NaN</td>\n",
       "    </tr>\n",
       "    <tr>\n",
       "      <th>4</th>\n",
       "      <td>2529087</td>\n",
       "      <td>3000108</td>\n",
       "      <td>10.041392</td>\n",
       "      <td>7</td>\n",
       "      <td>0.116832</td>\n",
       "      <td>0.116832</td>\n",
       "      <td>0.116832</td>\n",
       "      <td>4.147659</td>\n",
       "      <td>0.586472</td>\n",
       "      <td>0.342430</td>\n",
       "      <td>...</td>\n",
       "      <td>NaN</td>\n",
       "      <td>NaN</td>\n",
       "      <td>NaN</td>\n",
       "      <td>NaN</td>\n",
       "      <td>NaN</td>\n",
       "      <td>NaN</td>\n",
       "      <td>NaN</td>\n",
       "      <td>NaN</td>\n",
       "      <td>NaN</td>\n",
       "      <td>NaN</td>\n",
       "    </tr>\n",
       "  </tbody>\n",
       "</table>\n",
       "<p>5 rows × 164 columns</p>\n",
       "</div>"
      ],
      "text/plain": [
       "   obj_id_L  obj_id_S      age_L  popid_L  zams_mass_L    mass_L  \\\n",
       "0    493856  11630673   9.647691        4     0.108094  0.108094   \n",
       "1   1871302  12431899   9.905573        6     0.310635  0.310635   \n",
       "2   2250630   2903857   9.981004        6     0.635183  0.634982   \n",
       "3   2350514   2595276   9.997058        6     0.092799  0.092799   \n",
       "4   2529087   3000108  10.041392        7     0.116832  0.116832   \n",
       "\n",
       "   systemMass_L      px_L      py_L      pz_L  ...  comp_S_omega  comp_S_q  \\\n",
       "0      0.108094  1.046219  0.143427  0.084485  ...     21.468162  0.665088   \n",
       "1      0.310635  4.250701  0.585845  0.370213  ...    225.949123  1.479937   \n",
       "2      0.634982  1.753730  0.247231  0.148651  ...           NaN       NaN   \n",
       "3      0.092799  0.496960  0.067016  0.040720  ...           NaN       NaN   \n",
       "4      0.116832  4.147659  0.586472  0.342430  ...           NaN       NaN   \n",
       "\n",
       "   comp_S_sep   comp_S_P  comp_S_obj_id_L  comp_S_obj_id_S  comp_S_alpha  \\\n",
       "0    0.002759   0.004897         493856.0       11630673.0    145.180702   \n",
       "1    1.569128  74.105185        1871302.0       12431899.0     45.090036   \n",
       "2         NaN        NaN              NaN              NaN           NaN   \n",
       "3         NaN        NaN              NaN              NaN           NaN   \n",
       "4         NaN        NaN              NaN              NaN           NaN   \n",
       "\n",
       "   comp_S_phi_pi_E  comp_S_phi  comp_S_companion_idx  \n",
       "0       351.565936  153.614765                  54.0  \n",
       "1        65.191924  339.898111                 136.0  \n",
       "2              NaN         NaN                   NaN  \n",
       "3              NaN         NaN                   NaN  \n",
       "4              NaN         NaN                   NaN  \n",
       "\n",
       "[5 rows x 164 columns]"
      ]
     },
     "execution_count": 12,
     "metadata": {},
     "output_type": "execute_result"
    }
   ],
   "source": [
    "# Path to your FITS file\n",
    "fits_file = 'data/all_fields_Mrun_EWS_w_comp_params.fits'\n",
    "\n",
    "with fits.open(fits_file) as hdul:\n",
    "    hdul.info()\n",
    "    data = hdul[1].data\n",
    "    # Convert to numpy array and change byte order to native (little-endian)\n",
    "    data_array = np.array(data).byteswap().view(data.dtype.newbyteorder('='))\n",
    "    df = pd.DataFrame(data_array)\n",
    "\n",
    "df.head()"
   ]
  },
  {
   "cell_type": "code",
   "execution_count": 13,
   "metadata": {},
   "outputs": [],
   "source": [
    "col_string = ', '.join(f'`{col}`' for col in df.columns)\n",
    "\n",
    "with open('data/column_names.txt', 'w') as f:\n",
    "    f.write(col_string)"
   ]
  },
  {
   "cell_type": "markdown",
   "metadata": {},
   "source": [
    "**Column names:**\n",
    "\n",
    "`obj_id_L`, `obj_id_S`, `age_L`, `popid_L`, `zams_mass_L`, `mass_L`, `systemMass_L`, `px_L`, `py_L`, `pz_L`, `vx_L`, `vy_L`, `vz_L`, `exbv_L`, `glat_L`, `glon_L`, `mbol_L`, `grav_L`, `teff_L`, `feh_L`, `rad_L`, `isMultiple_L`, `N_companions_L`, `rem_id_L`, `ubv_J_L`, `ubv_H_L`, `ubv_K_L`, `ubv_U_L`, `ubv_I_L`, `ubv_B_L`, `ubv_V_L`, `ubv_R_L`, `vr_L`, `mu_b_L`, `mu_lcosb_L`, `sep_L`, `age_S`, `popid_S`, `zams_mass_S`, `mass_S`, `systemMass_S`, `px_S`, `py_S`, `pz_S`, `vx_S`, `vy_S`, `vz_S`, `exbv_S`, `glat_S`, `glon_S`, `mbol_S`, `grav_S`, `teff_S`, `feh_S`, `rad_S`, `isMultiple_S`, `N_companions_S`, `rem_id_S`, `ubv_J_S`, `ubv_H_S`, `ubv_K_S`, `ubv_U_S`, `ubv_I_S`, `ubv_B_S`, `ubv_V_S`, `ubv_R_S`, `vr_S`, `mu_b_S`, `mu_lcosb_S`, `sep_S`, `theta_E`, `u0`, `mu_rel`, `t0`, `t_E`, `ubv_I_app_S`, `ubv_I_app_L`, `cent_glon_I_N`, `cent_glat_I_N`, `ubv_I_app_N`, `ubv_I_app_LSN`, `delta_m_I`, `f_blend_I`, `pi_rel`, `pi_E`, `pps_seed`, `gal_seed`, `n_peaks`, `bin_delta_m`, `tE_sys`, `tE_primary`, `primary_t`, `avg_t`, `std_t`, `asymmetry`, `companion_idx_list`, `field_id`, `observable_n_peaks`, `comp_L_zams_mass`, `comp_L_Teff`, `comp_L_L`, `comp_L_logg`, `comp_L_isWR`, `comp_L_mass`, `comp_L_phase`, `comp_L_metallicity`, `comp_L_m_ubv_U`, `comp_L_m_ubv_B`, `comp_L_m_ubv_V`, `comp_L_m_ubv_I`, `comp_L_m_ubv_R`, `comp_L_m_ukirt_H`, `comp_L_m_ukirt_K`, `comp_L_m_ukirt_J`, `comp_L_m_ztf_g`, `comp_L_m_ztf_r`, `comp_L_m_ztf_i`, `comp_L_log_a`, `comp_L_e`, `comp_L_i`, `comp_L_Omega`, `comp_L_omega`, `comp_L_q`, `comp_L_sep`, `comp_L_P`, `comp_L_obj_id_L`, `comp_L_obj_id_S`, `comp_L_alpha`, `comp_L_phi_pi_E`, `comp_L_phi`, `comp_L_companion_idx`, `comp_S_zams_mass`, `comp_S_Teff`, `comp_S_L`, `comp_S_logg`, `comp_S_isWR`, `comp_S_mass`, `comp_S_phase`, `comp_S_metallicity`, `comp_S_m_ubv_U`, `comp_S_m_ubv_B`, `comp_S_m_ubv_V`, `comp_S_m_ubv_I`, `comp_S_m_ubv_R`, `comp_S_m_ukirt_H`, `comp_S_m_ukirt_K`, `comp_S_m_ukirt_J`, `comp_S_m_ztf_g`, `comp_S_m_ztf_r`, `comp_S_m_ztf_i`, `comp_S_log_a`, `comp_S_e`, `comp_S_i`, `comp_S_Omega`, `comp_S_omega`, `comp_S_q`, `comp_S_sep`, `comp_S_P`, `comp_S_obj_id_L`, `comp_S_obj_id_S`, `comp_S_alpha`, `comp_S_phi_pi_E`, `comp_S_phi`, `comp_S_companion_idx`"
   ]
  },
  {
   "cell_type": "markdown",
   "metadata": {},
   "source": [
    "Select every row where the `comp_S_mass` column (or any `comp_S_ column`) is NOT `nan`."
   ]
  },
  {
   "cell_type": "code",
   "execution_count": 14,
   "metadata": {},
   "outputs": [
    {
     "name": "stdout",
     "output_type": "stream",
     "text": [
      "Number of rows with companion: 2389\n",
      "Number of rows without companion: 3509\n",
      "Sample size: 5898\n",
      "Percentage of rows with companion: 40.51%\n"
     ]
    }
   ],
   "source": [
    "# Select columns that start with 'comp_S_'\n",
    "comp_S_cols = [col for col in df.columns if col.startswith('comp_S_')]\n",
    "\n",
    "# Select rows where any of these columns is not NaN\n",
    "filtered_df = df[df[comp_S_cols].notna().any(axis=1)]\n",
    "\n",
    "filtered_df.head()\n",
    "comp_n = filtered_df.shape\n",
    "N = df.shape\n",
    "print(f\"Number of rows with companion: {comp_n[0]}\")\n",
    "print(f\"Number of rows without companion: {N[0] - comp_n[0]}\")\n",
    "print(f\"Sample size: {N[0]}\")\n",
    "comp_percent = comp_n[0] / N[0] * 100\n",
    "print(f\"Percentage of rows with companion: {comp_percent:.2f}%\")\n"
   ]
  },
  {
   "cell_type": "markdown",
   "metadata": {},
   "source": [
    "Now for the fun part: target acquisition. I've scanned the list. As I suspected, some of what you want is hiding in plain sight, and some of it requires a little... calculation. Amateurs look for a column; we *create* it.\n",
    "\n",
    "### Your Target List & Where They're Hiding\n",
    "\n",
    "Here is the map from what you want to the column names in that file.\n",
    "\n",
    "  * **`M_L` (Lens Mass):** `mass_L`.\n",
    "  * **`D_L` (Lens Distance):** *Calculation needed.* Use `px_L`, `py_L`, `pz_L`.\n",
    "  * **`D_S` (Source Distance):** *Calculation needed.* Use `px_S`, `py_S`, `pz_S`.\n",
    "  * **`I_S` (Souce I Magnitude):** `ubv_I_S`\n",
    "  * **`mu_rel` (Relative Proper Motion):** `mu_rel`.\n",
    "  * **`theta_E` (Einstein Radius):** `theta_E`.\n",
    "  * **`u0` (Impact Parameter):** `u0`.\n",
    "  * **`binary_sep_au` (Projected):** `comp_S_sep`.\n",
    "  * **`binary_sep_arcsec` (Angular):** *Calculation needed.* Use `comp_S_sep` and the source distance.\n",
    "  * **`binary_log_a_au` (log Source Semi-Major Axis):** `comp_S_log_a`. \n",
    "  * **`binary_a_au` (Source Semi-Major Axis):** *Calculation needed.* Use `comp_S_log_a`.\n",
    "  * **`binary_alpha_deg` (Source-Binary Orientation):** `comp_S_alpha`.\n",
    "  * **`ra`, `dec`:** You don't have RA/Dec. You have Galactic coordinates: `glon_S`, `glat_S`. We'll use those. Converting is a separate battle.\n",
    "\n",
    "Simple. Now let's put it in a language this notebook understands.\n",
    "\n",
    "### A Final Warning\n",
    "\n",
    "As I said, you have **Galactic Coordinates (`glon_S`, `glat_S`)**, not RA/Dec. This is fine, but you need to be aware of what coordinate system you're working in. If you need RA/Dec, you'll have to do a coordinate transformation, but let's not borrow trouble. Anyway, `astropy` can handle it pretty easily."
   ]
  },
  {
   "cell_type": "markdown",
   "metadata": {},
   "source": [
    "## Calculate the Columns That Don't Exist Yet "
   ]
  },
  {
   "cell_type": "code",
   "execution_count": 15,
   "metadata": {},
   "outputs": [
    {
     "name": "stdout",
     "output_type": "stream",
     "text": [
      "Starting with 2389 binary source events. Now, let's add the good stuff...\n"
     ]
    }
   ],
   "source": [
    "filtered_df_with_calcs = filtered_df.copy()\n",
    "\n",
    "# Let's add the columns we need to calculate directly to your dataframe.\n",
    "print(f\"Starting with {len(filtered_df_with_calcs)} binary source events. Now, let's add the good stuff...\")\n",
    "\n",
    "# Distances are in kpc. We calculate them from the 3D positions.\n",
    "# D = sqrt(px^2 + py^2 + pz^2)\n",
    "filtered_df_with_calcs['D_L'] = np.sqrt(filtered_df_with_calcs['px_L']**2 + filtered_df_with_calcs['py_L']**2 + filtered_df_with_calcs['pz_L']**2)\n",
    "filtered_df_with_calcs['D_S'] = np.sqrt(filtered_df_with_calcs['px_S']**2 + filtered_df_with_calcs['py_S']**2 + filtered_df_with_calcs['pz_S']**2)\n",
    "filtered_df_with_calcs['binary_a_au'] = 10 ** filtered_df_with_calcs['comp_S_log_a']\n",
    "\n",
    "# Now, the angular separation for the source binary in arcseconds.\n",
    "# The formula is: ang_sep[arcsec] = phys_sep[AU] / distance[parsecs]\n",
    "# We convert distance from kpc to pc by multiplying by 1000.\n",
    "filtered_df_with_calcs['binary_angular_separation'] = filtered_df_with_calcs['comp_S_sep'] / (filtered_df_with_calcs['D_S'] * 1000)\n"
   ]
  },
  {
   "cell_type": "markdown",
   "metadata": {},
   "source": [
    "## Select and Rename to Create the Final, Clean Table"
   ]
  },
  {
   "cell_type": "code",
   "execution_count": null,
   "metadata": {},
   "outputs": [
    {
     "ename": "KeyError",
     "evalue": "\"['mu_L_b', 'mu_L_lcosb', 'mu_S_b', 'mu_S_lcosb'] not in index\"",
     "output_type": "error",
     "traceback": [
      "\u001b[31m---------------------------------------------------------------------------\u001b[39m",
      "\u001b[31mKeyError\u001b[39m                                  Traceback (most recent call last)",
      "\u001b[36mCell\u001b[39m\u001b[36m \u001b[39m\u001b[32mIn[21]\u001b[39m\u001b[32m, line 25\u001b[39m\n\u001b[32m      2\u001b[39m final_columns = {\n\u001b[32m      3\u001b[39m     \u001b[33m'\u001b[39m\u001b[33mmass_L\u001b[39m\u001b[33m'\u001b[39m: \u001b[33m'\u001b[39m\u001b[33mM_L\u001b[39m\u001b[33m'\u001b[39m,\n\u001b[32m      4\u001b[39m     \u001b[33m'\u001b[39m\u001b[33mD_L\u001b[39m\u001b[33m'\u001b[39m: \u001b[33m'\u001b[39m\u001b[33mD_L_kpc\u001b[39m\u001b[33m'\u001b[39m,\n\u001b[32m   (...)\u001b[39m\u001b[32m     20\u001b[39m     \u001b[33m'\u001b[39m\u001b[33mmu_S_lcosb\u001b[39m\u001b[33m'\u001b[39m: \u001b[33m'\u001b[39m\u001b[33mmu_S_lcosb\u001b[39m\u001b[33m'\u001b[39m\n\u001b[32m     21\u001b[39m }\n\u001b[32m     23\u001b[39m \u001b[38;5;66;03m# Create the final table from your filtered data.\u001b[39;00m\n\u001b[32m     24\u001b[39m \u001b[38;5;66;03m# This selects ONLY the columns we want and renames them.\u001b[39;00m\n\u001b[32m---> \u001b[39m\u001b[32m25\u001b[39m renamed_table = \u001b[43mfiltered_df_with_calcs\u001b[49m\u001b[43m[\u001b[49m\u001b[38;5;28;43mlist\u001b[39;49m\u001b[43m(\u001b[49m\u001b[43mfinal_columns\u001b[49m\u001b[43m.\u001b[49m\u001b[43mkeys\u001b[49m\u001b[43m(\u001b[49m\u001b[43m)\u001b[49m\u001b[43m)\u001b[49m\u001b[43m]\u001b[49m.rename(columns=final_columns)\n\u001b[32m     27\u001b[39m renamed_table.head()\n",
      "\u001b[36mFile \u001b[39m\u001b[32m/opt/anaconda3/envs/popsycle/lib/python3.11/site-packages/pandas/core/frame.py:4113\u001b[39m, in \u001b[36mDataFrame.__getitem__\u001b[39m\u001b[34m(self, key)\u001b[39m\n\u001b[32m   4111\u001b[39m     \u001b[38;5;28;01mif\u001b[39;00m is_iterator(key):\n\u001b[32m   4112\u001b[39m         key = \u001b[38;5;28mlist\u001b[39m(key)\n\u001b[32m-> \u001b[39m\u001b[32m4113\u001b[39m     indexer = \u001b[38;5;28;43mself\u001b[39;49m\u001b[43m.\u001b[49m\u001b[43mcolumns\u001b[49m\u001b[43m.\u001b[49m\u001b[43m_get_indexer_strict\u001b[49m\u001b[43m(\u001b[49m\u001b[43mkey\u001b[49m\u001b[43m,\u001b[49m\u001b[43m \u001b[49m\u001b[33;43m\"\u001b[39;49m\u001b[33;43mcolumns\u001b[39;49m\u001b[33;43m\"\u001b[39;49m\u001b[43m)\u001b[49m[\u001b[32m1\u001b[39m]\n\u001b[32m   4115\u001b[39m \u001b[38;5;66;03m# take() does not accept boolean indexers\u001b[39;00m\n\u001b[32m   4116\u001b[39m \u001b[38;5;28;01mif\u001b[39;00m \u001b[38;5;28mgetattr\u001b[39m(indexer, \u001b[33m\"\u001b[39m\u001b[33mdtype\u001b[39m\u001b[33m\"\u001b[39m, \u001b[38;5;28;01mNone\u001b[39;00m) == \u001b[38;5;28mbool\u001b[39m:\n",
      "\u001b[36mFile \u001b[39m\u001b[32m/opt/anaconda3/envs/popsycle/lib/python3.11/site-packages/pandas/core/indexes/base.py:6212\u001b[39m, in \u001b[36mIndex._get_indexer_strict\u001b[39m\u001b[34m(self, key, axis_name)\u001b[39m\n\u001b[32m   6209\u001b[39m \u001b[38;5;28;01melse\u001b[39;00m:\n\u001b[32m   6210\u001b[39m     keyarr, indexer, new_indexer = \u001b[38;5;28mself\u001b[39m._reindex_non_unique(keyarr)\n\u001b[32m-> \u001b[39m\u001b[32m6212\u001b[39m \u001b[38;5;28;43mself\u001b[39;49m\u001b[43m.\u001b[49m\u001b[43m_raise_if_missing\u001b[49m\u001b[43m(\u001b[49m\u001b[43mkeyarr\u001b[49m\u001b[43m,\u001b[49m\u001b[43m \u001b[49m\u001b[43mindexer\u001b[49m\u001b[43m,\u001b[49m\u001b[43m \u001b[49m\u001b[43maxis_name\u001b[49m\u001b[43m)\u001b[49m\n\u001b[32m   6214\u001b[39m keyarr = \u001b[38;5;28mself\u001b[39m.take(indexer)\n\u001b[32m   6215\u001b[39m \u001b[38;5;28;01mif\u001b[39;00m \u001b[38;5;28misinstance\u001b[39m(key, Index):\n\u001b[32m   6216\u001b[39m     \u001b[38;5;66;03m# GH 42790 - Preserve name from an Index\u001b[39;00m\n",
      "\u001b[36mFile \u001b[39m\u001b[32m/opt/anaconda3/envs/popsycle/lib/python3.11/site-packages/pandas/core/indexes/base.py:6264\u001b[39m, in \u001b[36mIndex._raise_if_missing\u001b[39m\u001b[34m(self, key, indexer, axis_name)\u001b[39m\n\u001b[32m   6261\u001b[39m     \u001b[38;5;28;01mraise\u001b[39;00m \u001b[38;5;167;01mKeyError\u001b[39;00m(\u001b[33mf\u001b[39m\u001b[33m\"\u001b[39m\u001b[33mNone of [\u001b[39m\u001b[38;5;132;01m{\u001b[39;00mkey\u001b[38;5;132;01m}\u001b[39;00m\u001b[33m] are in the [\u001b[39m\u001b[38;5;132;01m{\u001b[39;00maxis_name\u001b[38;5;132;01m}\u001b[39;00m\u001b[33m]\u001b[39m\u001b[33m\"\u001b[39m)\n\u001b[32m   6263\u001b[39m not_found = \u001b[38;5;28mlist\u001b[39m(ensure_index(key)[missing_mask.nonzero()[\u001b[32m0\u001b[39m]].unique())\n\u001b[32m-> \u001b[39m\u001b[32m6264\u001b[39m \u001b[38;5;28;01mraise\u001b[39;00m \u001b[38;5;167;01mKeyError\u001b[39;00m(\u001b[33mf\u001b[39m\u001b[33m\"\u001b[39m\u001b[38;5;132;01m{\u001b[39;00mnot_found\u001b[38;5;132;01m}\u001b[39;00m\u001b[33m not in index\u001b[39m\u001b[33m\"\u001b[39m)\n",
      "\u001b[31mKeyError\u001b[39m: \"['mu_L_b', 'mu_L_lcosb', 'mu_S_b', 'mu_S_lcosb'] not in index\""
     ]
    }
   ],
   "source": [
    "# This is our blueprint for the final product. No junk allowed.\n",
    "final_columns = {\n",
    "    'mass_L': 'M_L',\n",
    "    'D_L': 'D_L_kpc',\n",
    "    'D_S': 'D_S_kpc',\n",
    "    'mu_rel': 'mu_rel_mas_yr',\n",
    "    'theta_E': 'theta_E_mas',\n",
    "    'u0': 'u0',  # The impact parameter, in units of thet\n",
    "    'comp_S_sep': 'binary_sep_au', # The physical separation in AU\n",
    "    'comp_S_log_a': 'binary_log_a_au', \n",
    "    'binary_a_au': 'binary_a_au',\n",
    "    'comp_S_alpha': 'binary_alpha_deg',\n",
    "    'binary_angular_separation': 'binary_sep_arcsec', # The angular separation\n",
    "    'glon_S': 'gal_lon_S_deg',\n",
    "    'glat_S': 'gal_lat_S_deg',\n",
    "    'ubv_I_S': 'I_S',\n",
    "    'mu_b_L': 'mu_b_L',\n",
    "    'mu_lcosb_L': 'mu_lcosb_L',\n",
    "    'mu_b_S': 'mu_b_S',\n",
    "    'mu_lcosb_S': 'mu_lcosb_S'\n",
    "}\n",
    "\n",
    "# Create the final table from your filtered data.\n",
    "# This selects ONLY the columns we want and renames them.\n",
    "renamed_table = filtered_df_with_calcs[list(final_columns.keys())].rename(columns=final_columns)\n",
    "\n",
    "renamed_table.head()"
   ]
  },
  {
   "cell_type": "markdown",
   "metadata": {},
   "source": [
    "## Save the Final Table"
   ]
  },
  {
   "cell_type": "code",
   "execution_count": 17,
   "metadata": {},
   "outputs": [],
   "source": [
    "# save the final table to a csv file with a header\n",
    "renamed_table.to_csv('data/popsycle_table_with_calcs.csv', index=False)"
   ]
  },
  {
   "cell_type": "markdown",
   "metadata": {},
   "source": [
    "## How to Use this Table"
   ]
  },
  {
   "cell_type": "code",
   "execution_count": 18,
   "metadata": {},
   "outputs": [
    {
     "name": "stdout",
     "output_type": "stream",
     "text": [
      "        M_L   D_L_kpc    D_S_kpc  mu_rel_mas_yr  theta_E_mas        u0  \\\n",
      "0  0.108094  1.059379   8.349576      14.859446     0.850656  0.457256   \n",
      "1  0.310635  4.306824   7.832075      11.668156     0.513506 -1.884719   \n",
      "2  0.119087  4.632275  10.512844       4.986551     0.341765 -0.076806   \n",
      "3  0.256288  6.178383   7.294702       2.289019     0.227061  1.102258   \n",
      "4  0.109863  6.538958   8.791398       8.926219     0.186987  1.132633   \n",
      "\n",
      "   binary_sep_au  binary_log_a_au  binary_a_au  binary_alpha_deg  \\\n",
      "0       0.002759        -1.456608     0.034946        145.180702   \n",
      "1       1.569128         1.339302    21.842480         45.090036   \n",
      "2       0.010222         0.268963     1.857648        139.491598   \n",
      "3       0.068878         0.612039     4.092978        291.545738   \n",
      "4      21.375443         2.445328   278.822644         75.633166   \n",
      "\n",
      "   binary_sep_arcsec  gal_lon_S_deg  gal_lat_S_deg       I_S  \n",
      "0       3.304900e-07       7.806116       4.574181  5.443714  \n",
      "1       2.003464e-04       7.847241       4.931191  1.005159  \n",
      "2       9.723228e-07       8.919753      -3.380308  7.634290  \n",
      "3       9.442166e-06       8.803811      -3.459525  4.178946  \n",
      "4       2.431404e-03       8.696019      -3.652827  3.806914  \n",
      "(2389, 14)\n"
     ]
    }
   ],
   "source": [
    "# Load the table\n",
    "table = pd.read_csv('data/popsycle_table_with_calcs.csv')\n",
    "\n",
    "# Print the first few rows of the table\n",
    "print(table.head())\n",
    "print(table.shape)"
   ]
  },
  {
   "cell_type": "code",
   "execution_count": 19,
   "metadata": {},
   "outputs": [],
   "source": [
    "# how to use one column\n",
    "D_L = table['D_L_kpc']"
   ]
  },
  {
   "cell_type": "code",
   "execution_count": 20,
   "metadata": {},
   "outputs": [],
   "source": [
    "# how to filter the table\n",
    "table_filtered = table[table['D_L_kpc'] < 10]\n",
    "\n",
    "# how to add a new column\n",
    "table['D_L_pc'] = table['D_L_kpc'] * 1000"
   ]
  },
  {
   "cell_type": "code",
   "execution_count": 12,
   "metadata": {},
   "outputs": [],
   "source": [
    "# how to make a numpy array\n",
    "D_L_array = table['D_L_kpc'].to_numpy()"
   ]
  },
  {
   "cell_type": "code",
   "execution_count": 13,
   "metadata": {},
   "outputs": [
    {
     "name": "stdout",
     "output_type": "stream",
     "text": [
      "[[1.08094245e-01 1.05937888e+00 8.34957595e+00 ... 4.57418149e+00\n",
      "  1.05937888e+03 0.00000000e+00]\n",
      " [1.08094245e-01 1.05937888e+00 8.34957595e+00 ... 4.57418149e+00\n",
      "  1.05937888e+03 1.00000000e+00]\n",
      " [1.08094245e-01 1.05937888e+00 8.34957595e+00 ... 4.57418149e+00\n",
      "  1.05937888e+03 2.00000000e+00]\n",
      " ...\n",
      " [5.31918201e-01 7.88608313e+00 9.37316887e+00 ... 2.27641512e+00\n",
      "  7.88608313e+03 1.77000000e+02]\n",
      " [5.31918201e-01 7.88608313e+00 9.37316887e+00 ... 2.27641512e+00\n",
      "  7.88608313e+03 1.78000000e+02]\n",
      " [5.31918201e-01 7.88608313e+00 9.37316887e+00 ... 2.27641512e+00\n",
      "  7.88608313e+03 1.79000000e+02]]\n"
     ]
    }
   ],
   "source": [
    "# Create a DataFrame with phi values from 0 to 179 (inclusive)\n",
    "phi_values = pd.DataFrame({'phi': np.arange(0, 180, 1)})\n",
    "\n",
    "# Add a temporary key to both DataFrames for the cross join\n",
    "table['key'] = 1\n",
    "phi_values['key'] = 1\n",
    "\n",
    "# Perform the cross join\n",
    "expanded_table = pd.merge(table, phi_values, on='key').drop('key', axis=1)\n",
    "\n",
    "# Now, expanded_table contains every row of 'table' repeated for each phi value\n",
    "\n",
    "# Using .to_numpy() (recommended)\n",
    "array = expanded_table.to_numpy()\n",
    "\n",
    "# Or, equivalently:\n",
    "# array = expanded_table.values\n",
    "\n",
    "print(array)"
   ]
  },
  {
   "cell_type": "markdown",
   "metadata": {},
   "source": [
    "This is just an example. Obviously, you will need more columns than this."
   ]
  },
  {
   "cell_type": "code",
   "execution_count": 14,
   "metadata": {},
   "outputs": [
    {
     "name": "stdout",
     "output_type": "stream",
     "text": [
      "(430020, 3)\n"
     ]
    }
   ],
   "source": [
    "# ensure a datatype and select the columns we want\n",
    "array_typed = expanded_table[['D_L_kpc', 'D_S_kpc', 'phi']].to_numpy(dtype=float)\n",
    "\n",
    "print(array_typed.shape)"
   ]
  },
  {
   "cell_type": "markdown",
   "metadata": {},
   "source": [
    "You can use this kind of repeating array to avoid loops in your calculations."
   ]
  },
  {
   "cell_type": "markdown",
   "metadata": {},
   "source": [
    "## Sanity Checks\n",
    "\n",
    "<!-- from astropy.io import fits\n",
    "fits_file = 'data/all_fields_Mrun_EWS_w_comp_params.fits'\n",
    "with fits.open(fits_file) as hdul:\n",
    "    data = hdul[1].data\n",
    "    data_array = np.array(data).byteswap().view(data.dtype.newbyteorder('='))\n",
    "    df = pd.DataFrame(data_array) -->\n",
    "\n",
    "The `a` (semi-major axis) should not be greater than `sep` (projected separation). The code above prints the number of cases where this is violated."
   ]
  },
  {
   "cell_type": "code",
   "execution_count": 15,
   "metadata": {},
   "outputs": [
    {
     "name": "stdout",
     "output_type": "stream",
     "text": [
      "Number of cases where a > sep: 2389 / 2389\n"
     ]
    }
   ],
   "source": [
    "mask = table['binary_a_au'] > table['binary_sep_au']\n",
    "print(f'Number of cases where a > sep: {mask.sum()} / {len(table)}')"
   ]
  },
  {
   "cell_type": "markdown",
   "metadata": {},
   "source": [
    "\n",
    "\n",
    "**Histograms:** For `binary_log_a_au` and `binary_sep_au` to help you visually inspect the distributions."
   ]
  },
  {
   "cell_type": "code",
   "execution_count": 19,
   "metadata": {},
   "outputs": [
    {
     "data": {
      "image/png": "[encoded data removed]",
      "text/plain": [
       "<Figure size 600x400 with 1 Axes>"
      ]
     },
     "metadata": {},
     "output_type": "display_data"
    }
   ],
   "source": [
    "from matplotlib import pyplot as plt\n",
    "\n",
    "plt.figure(figsize=(6,4))\n",
    "plt.hist(table['binary_sep_au'].dropna(), range=(0, 500), bins=50, alpha=0.7, label='binary_sep_au')\n",
    "plt.hist(table['binary_a_au'].dropna(), range=(0, 500), bins=50, alpha=0.7, label='binary_a_au')\n",
    "plt.xlabel('[AU]')\n",
    "plt.ylabel('Count')\n",
    "plt.title('Histogram of binary_log_a_au and binary_sep_au')\n",
    "plt.legend()\n",
    "plt.show()"
   ]
  },
  {
   "cell_type": "markdown",
   "metadata": {},
   "source": [
    "Looks good!"
   ]
  },
  {
   "cell_type": "markdown",
   "metadata": {},
   "source": [
    "## Units\n",
    "\n",
    "Be careful that the unit's in this table match those your code is expecting. Forgetting your units is a sin you don't want to commit. It's the difference between a discovery and a disaster.\n",
    "\n",
    "| Your Column Name | Original Column(s) | Units |\n",
    "| :--- | :--- | :--- |\n",
    "| `M_L` | `mass_L` | Solar Masses ($M_\\odot$) |\n",
    "| `D_L_kpc` | `px_L`, `py_L`, `pz_L` | Kiloparsecs (kpc) |\n",
    "| `D_S_kpc` | `px_S`, `py_S`, `pz_S` | Kiloparsecs (kpc) |\n",
    "| `mu_rel_mas_yr` | `mu_rel` | Milliarcseconds per year (mas/yr) |\n",
    "| `theta_E_mas` | `theta_E` | Milliarcseconds (mas) |\n",
    "| `u0` | `u0` | $\\theta_E$ |\n",
    "| `binary_sep_au` | `comp_S_sep` | Astronomical Units (au) |\n",
    "| `binary_sep_arcsec`| `comp_S_sep`, `D_S` | **Arcseconds (\")** |\n",
    "| `binary_log_a_au` | `comp_S_log_a` | log10(semi-major axis/AU) |\n",
    "| `binary_a_au`  | `comp_S_log_a`  | Semi-major axis (AU) |\n",
    "| `binary_alpha_deg` | `comp_S_alpha` | Orientation angle (deg) |\n"
   ]
  }
 ],
 "metadata": {
  "kernelspec": {
   "display_name": "popsycle",
   "language": "python",
   "name": "python3"
  },
  "language_info": {
   "codemirror_mode": {
    "name": "ipython",
    "version": 3
   },
   "file_extension": ".py",
   "mimetype": "text/x-python",
   "name": "python",
   "nbconvert_exporter": "python",
   "pygments_lexer": "ipython3",
   "version": "3.11.13"
  }
 },
 "nbformat": 4,
 "nbformat_minor": 2
}
